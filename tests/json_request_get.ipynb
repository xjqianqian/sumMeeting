{
 "cells": [
  {
   "cell_type": "code",
   "execution_count": null,
   "metadata": {},
   "outputs": [],
   "source": [
    "import requests\n",
    "import pandas as pd\n",
    "import datetime as dt"
   ]
  },
  {
   "cell_type": "markdown",
   "metadata": {},
   "source": [
    "Use request module to get json file from aai endpoint for a specific transcript id."
   ]
  },
  {
   "cell_type": "code",
   "execution_count": null,
   "metadata": {},
   "outputs": [],
   "source": [
    "headers_aai = {\n",
    "    'authorization': \"b350539a3b6f43d3b7d41125779ac686\",\n",
    "    'content-type': \"application/json\"\n",
    "}\n",
    "transcript_endpoint = \"https://api.assemblyai.com/v2/transcript/\"\n",
    "id = \"6dhlt92oie-a13e-4f5d-9c4c-727a503e8d4b\"\n",
    "polling_endpoint = transcript_endpoint + id\n",
    "polling_response = requests.get(polling_endpoint, headers=headers_aai)"
   ]
  },
  {
   "cell_type": "markdown",
   "metadata": {},
   "source": [
    "Print the below information in the json file:\n",
    "1. status\n",
    "2. text"
   ]
  },
  {
   "cell_type": "code",
   "execution_count": null,
   "metadata": {},
   "outputs": [],
   "source": [
    "status = polling_response.json()[\"status\"]\n",
    "print(status)\n",
    "# Get the JSON file\n",
    "if status == \"completed\":\n",
    "    json_file = polling_response.json()\n",
    "elif status == \"error\":\n",
    "    raise Exception(\"Transcription failed.\")\n",
    "text = json_file[\"text\"]\n",
    "print(text)"
   ]
  },
  {
   "cell_type": "markdown",
   "metadata": {},
   "source": [
    "When Auto chapters is activated in setting, the json file will include a list of chapter with summary, gist, headline, start, end time. <br>\n",
    "Print the related information"
   ]
  },
  {
   "cell_type": "code",
   "execution_count": null,
   "metadata": {},
   "outputs": [],
   "source": [
    "chapters = json_file['chapters']\n",
    "for chapter in chapters:\n",
    "    print(f\"Summary: {chapter['summary']}\")  \n",
    "    print(f\"Start: {chapter['start']}, End: {chapter['end']}\")  \n",
    "    print(f\"Headline: {chapter['headline']}\")  \n",
    "    print(f\"Gist: {chapter['gist']}\")  "
   ]
  },
  {
   "cell_type": "markdown",
   "metadata": {},
   "source": [
    "Define a function to convert milliseconds to hhmmss"
   ]
  },
  {
   "cell_type": "code",
   "execution_count": null,
   "metadata": {},
   "outputs": [],
   "source": [
    "def millis_to_hhmmss(start_ms):\n",
    "    hhmmss = dt.timedelta(milliseconds=start_ms)\n",
    "    return str(hhmmss).split(\".\")[0]"
   ]
  },
  {
   "cell_type": "markdown",
   "metadata": {},
   "source": [
    "Creates a DataFrame to turn a list or dictionary into data base."
   ]
  },
  {
   "cell_type": "code",
   "execution_count": null,
   "metadata": {},
   "outputs": [],
   "source": [
    "chapters_df = pd.DataFrame(chapters)\n",
    "print(chapters_df)"
   ]
  }
 ],
 "metadata": {
  "kernelspec": {
   "display_name": "Python 3",
   "language": "python",
   "name": "python3"
  },
  "language_info": {
   "codemirror_mode": {
    "name": "ipython",
    "version": 3
   },
   "file_extension": ".py",
   "mimetype": "text/x-python",
   "name": "python",
   "nbconvert_exporter": "python",
   "pygments_lexer": "ipython3",
   "version": "3.11.4"
  }
 },
 "nbformat": 4,
 "nbformat_minor": 2
}
